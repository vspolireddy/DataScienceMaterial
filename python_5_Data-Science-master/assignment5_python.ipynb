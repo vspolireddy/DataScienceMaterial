{
 "cells": [
  {
   "cell_type": "markdown",
   "metadata": {},
   "source": [
    "#Problem 1. Pig Latin.\n",
    "\n",
    "In \"Pig Latin\", English words are transformed according to the following rules:\n",
    "\n",
    "* If the word begins with one or more consonants, those consonants are moved to the end of the word, followed by \"ay\":\n",
    "\n",
    "  * pig -> igpay\n",
    "  * Latin -> Atinlay\n",
    "  * trash -> ashtray\n",
    "\n",
    "* If the word begins with a vowel, it is followed by \"yay\":\n",
    "\n",
    "  * apple -> appleyay\n",
    "  * out -> outyay.\n",
    "  \n",
    "Write Python code that takes a word and converts it to Pig Latin.  If the input consists of multiple words or contains punctuation, your code should print a suitable error message."
   ]
  },
  {
   "cell_type": "code",
   "execution_count": 1,
   "metadata": {
    "collapsed": false
   },
   "outputs": [
    {
     "name": "stdout",
     "output_type": "stream",
     "text": [
      "igpay\n",
      "atinlay\n",
      "ashtray\n",
      "----------------------\n",
      "appleyay\n",
      "outyay\n"
     ]
    }
   ],
   "source": [
    "VOWELS = (\"a\", \"e\", \"i\", \"o\", \"u\", \"A\", \"E\", \"I\", \"O\", \"U\")\n",
    "\n",
    "def PigLatinConv(word):\n",
    "    \n",
    "    if word[0] in VOWELS:\n",
    "        return( word + \"yay\")\n",
    "    else:\n",
    "        i = 0\n",
    "        str1 = \"\"\n",
    "        while word[i] not in VOWELS:\n",
    "            str1 = str1 + word[i]\n",
    "            i = i + 1\n",
    "        return(word[i:] + str1.lower() + \"ay\")\n",
    "\n",
    "    \n",
    "print(PigLatinConv(\"pig\"))\n",
    "print(PigLatinConv(\"Latin\"))\n",
    "print(PigLatinConv(\"trash\"))\n",
    "\n",
    "print(\"----------------------\")\n",
    "print(PigLatinConv(\"apple\"))\n",
    "print(PigLatinConv(\"out\"))\n",
    "\n",
    "\n"
   ]
  },
  {
   "cell_type": "markdown",
   "metadata": {},
   "source": [
    "#Problem 2(a).  Letter Frequencies.\n",
    "\n",
    "The files ```encryptedA.txt``` and ```encryptedB.txt``` contain two different encrypted messages on similar topics.  One message was originally in English and one was in Welsh.  \n",
    "\n",
    "Write Python code that reads a text file into memory and creates a dictionary object with a frequency count for each letter.  For example, for ```encryptedA.txt```, your output should begin ```{'a': 78, 'b': 31, ...} ```.  Do not distinguish between uppercase and lowercase letters, and ignore punctuation.\n",
    "\n",
    "Which letter has the highest frequency in each text file?"
   ]
  },
  {
   "cell_type": "code",
   "execution_count": 6,
   "metadata": {
    "collapsed": false,
    "scrolled": true
   },
   "outputs": [
    {
     "name": "stdout",
     "output_type": "stream",
     "text": [
      "{'x': 72, 'b': 31, 'd': 28, 'r': 114, 't': 19, 'l': 32, 'a': 78, 'u': 70, 'm': 76, 'j': 36, 'z': 16, 'g': 78, 'w': 76, 'y': 40, 'c': 88, 'v': 27, 'k': 22, 'f': 18, 'i': 7, 'q': 41}\n",
      "The highest letter in frequency is : r with 114 times\n"
     ]
    }
   ],
   "source": [
    "import re\n",
    "\n",
    "with open(\"encryptedA.txt\") as text:\n",
    "    block = text.read()\n",
    "pattern = re.compile(\"[a-zA-Z0-9]+\")\n",
    "\n",
    "my_dict = {}\n",
    "for word in pattern.findall(block):\n",
    "    for ch in word:\n",
    "        #print(ch)\n",
    "        key = ch\n",
    "        if key in my_dict:\n",
    "            my_dict[key] += 1\n",
    "        else:\n",
    "            my_dict[key] = 1\n",
    "\n",
    "print(my_dict)\n",
    "\n",
    "print( \"The highest letter in frequency is : \" + max(my_dict, key=my_dict.get) + \" with \" + str(my_dict[max(my_dict, key=my_dict.get)]) + \" times\")\n",
    "\n",
    "\n",
    "\n",
    "\n",
    "\n"
   ]
  },
  {
   "cell_type": "code",
   "execution_count": 7,
   "metadata": {
    "collapsed": false
   },
   "outputs": [
    {
     "name": "stdout",
     "output_type": "stream",
     "text": [
      "{'x': 97, 'z': 61, 'a': 13, 'p': 23, 'c': 54, 'g': 56, 'w': 43, 'y': 92, 'o': 48, 's': 61, 'h': 48, 'r': 13, 'b': 5, 'd': 30, 'n': 79, 'q': 17, 'l': 14, 'm': 4, 'u': 19, 'k': 85, 't': 34, 'j': 23, 'v': 123, 'e': 28, 'f': 2, 'i': 6}\n",
      "The highest letter in frequency is : v with 123 times\n"
     ]
    }
   ],
   "source": [
    "import re\n",
    "\n",
    "with open(\"encryptedB.txt\") as text:\n",
    "    block = text.read()\n",
    "pattern = re.compile(\"[a-zA-Z0-9]+\")\n",
    "\n",
    "my_dict1 = {}\n",
    "for word in pattern.findall(block):\n",
    "    for ch in word:\n",
    "        #print(ch)\n",
    "        key = ch\n",
    "        if key in my_dict1:\n",
    "            my_dict1[key] += 1\n",
    "        else:\n",
    "            my_dict1[key] = 1\n",
    "\n",
    "print(my_dict1)\n",
    "\n",
    "print( \"The highest letter in frequency is : \" + max(my_dict1, key=my_dict1.get) + \" with \" + str(my_dict1[max(my_dict1, key=my_dict1.get)]) + \" times\")"
   ]
  },
  {
   "cell_type": "markdown",
   "metadata": {},
   "source": [
    "#Problem 2(b).  Formatting for R.\n",
    "\n",
    "Write your dictionaries with frequency counts to ```.csv``` files, with one column for the key and one column for the frequency counted."
   ]
  },
  {
   "cell_type": "code",
   "execution_count": 13,
   "metadata": {
    "collapsed": false
   },
   "outputs": [],
   "source": [
    "import csv\n",
    "\n",
    "writer = csv.writer(open('dictA.csv', 'w'))\n",
    "for key, value in my_dict.items():\n",
    "   writer.writerow([key, value])"
   ]
  },
  {
   "cell_type": "code",
   "execution_count": 10,
   "metadata": {
    "collapsed": false
   },
   "outputs": [],
   "source": [
    "import csv\n",
    "\n",
    "writer = csv.writer(open('dictB.csv', 'w'))\n",
    "for key, value in my_dict1.items():\n",
    "   writer.writerow([key, value])"
   ]
  },
  {
   "cell_type": "code",
   "execution_count": null,
   "metadata": {
    "collapsed": true
   },
   "outputs": [],
   "source": []
  }
 ],
 "metadata": {
  "kernelspec": {
   "display_name": "Python 3",
   "language": "python",
   "name": "python3"
  },
  "language_info": {
   "codemirror_mode": {
    "name": "ipython",
    "version": 3
   },
   "file_extension": ".py",
   "mimetype": "text/x-python",
   "name": "python",
   "nbconvert_exporter": "python",
   "pygments_lexer": "ipython3",
   "version": "3.5.1"
  }
 },
 "nbformat": 4,
 "nbformat_minor": 0
}
