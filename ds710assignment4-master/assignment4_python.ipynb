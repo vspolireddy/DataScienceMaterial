{
 "cells": [
  {
   "cell_type": "markdown",
   "metadata": {},
   "source": [
    "#Problem 1.  Revenue models.\n",
    "\n",
    "Average monthly revenue at each store in the TableFarm salad chain is $\\$100,000$, with a standard deviation of $\\$12,000$.  An advertising firm claims they can increase monthly revenue to $\\$120,000$, but the standard deviation will be increased as well, to $\\$25,000$.\n",
    "\n",
    "Write Python code to generate three lists of random numbers which model potential revenue: one list with 12 months of revenue using the current mean and standard deviation, another list with 12 months of revenue using the predicted mean and standard deviation, and a third list combining your first two lists.  You can assume a normal distribution.  Round each number to the nearest $\\$1,000$."
   ]
  },
  {
   "cell_type": "code",
   "execution_count": 16,
   "metadata": {
    "collapsed": false
   },
   "outputs": [
    {
     "name": "stdout",
     "output_type": "stream",
     "text": [
      "[90000, 81000, 97000, 75000, 123000, 89000, 88000, 117000, 99000, 103000, 114000, 82000, 93000, 133000, 120000, 129000, 157000, 94000, 116000, 118000, 122000, 94000, 116000, 127000]\n"
     ]
    }
   ],
   "source": [
    "#SOUJIT POLIREDDY\n",
    "import random\n",
    "import math\n",
    "\n",
    "rev_list1 = []\n",
    "for i in range(12):\n",
    "    rev = int(random.normalvariate(100000, 12000))\n",
    "    rev_list1.append((math.ceil(rev/1000.0)) * 1000)\n",
    "#print(rev_list1)\n",
    "\n",
    "\n",
    "rev_list2 = []\n",
    "for i in range(12):\n",
    "    rev = int(random.normalvariate(120000, 25000))\n",
    "    rev_list2.append((math.ceil(rev/1000.0)) * 1000)\n",
    "#print(rev_list2)\n",
    "\n",
    "\n",
    "print(rev_list1 + rev_list2)\n",
    "\n"
   ]
  },
  {
   "cell_type": "markdown",
   "metadata": {},
   "source": [
    "#Problem 2(a).  Bus arrival times.\n",
    "\n",
    "Shuttle buses arrive at an airport to fetch passengers with an average interval of 15 minutes.  Their actual arrival times follow a [Poisson process](http://preshing.com/20111007/how-to-generate-random-timings-for-a-poisson-process/).  Use the ```random``` module to generate a list of 50 different bus intervals, rounded to the nearest minute.  For example, your list might begin ```[11, 34, 18, 23, ...]```.\n",
    "\n",
    "What is the shortest waiting time in your list?  What is the longest waiting time?"
   ]
  },
  {
   "cell_type": "code",
   "execution_count": 17,
   "metadata": {
    "collapsed": false
   },
   "outputs": [
    {
     "name": "stdout",
     "output_type": "stream",
     "text": [
      "[3, 25, 8, 18, 8, 26, 7, 40, 21, 13, 30, 12, 33, 16, 23, 23, 2, 16, 28, 5, 6, 6, 23, 2, 6, 1, 2, 29, 34, 5, 12, 14, 8, 14, 2, 2, 42, 11, 12, 12, 63, 10, 15, 31, 15, 6, 7, 4, 6, 21]\n",
      "Shortest waiting time:1\n",
      "Longest waiting time:63\n"
     ]
    }
   ],
   "source": [
    "import math\n",
    "import random\n",
    "\n",
    "def nextTime(rateParameter):\n",
    "    return -math.log(1.0 - random.random()) / rateParameter\n",
    "\n",
    "busInterval_list = []\n",
    "busInterval_list1 = []\n",
    "for i in range(50):\n",
    "    x = math.ceil(nextTime(1/15.0))\n",
    "              \n",
    "    busInterval_list.append(round(x,1))\n",
    "    busInterval_list1.append(x)\n",
    "\n",
    "#print(sorted(busInterval_list))\n",
    "print(busInterval_list1)\n",
    "\n",
    "print(\"Shortest waiting time:\" + str(min(busInterval_list)))\n",
    "print(\"Longest waiting time:\" + str(max(busInterval_list)))\n"
   ]
  },
  {
   "cell_type": "markdown",
   "metadata": {},
   "source": [
    "#Problem 2(b).  Cumulative waiting times.\n",
    "\n",
    "Suppose the first bus arrives at the measured number of minutes after midnight.  The bus company wants to track the time each bus arrived, measured in minutes after midnight.  Make a list of the number of minutes after midnight that each bus arrived at, using the list you generated in part (a).  With our example in part (a), for instance, the answer would start ```[11, 45, 63, 86, ...]```.\n",
    "\n",
    "At what time does the fiftieth bus arrive?"
   ]
  },
  {
   "cell_type": "code",
   "execution_count": 5,
   "metadata": {
    "collapsed": false
   },
   "outputs": [
    {
     "name": "stdout",
     "output_type": "stream",
     "text": [
      "12:06 AM\n",
      "12:08 AM\n",
      "12:29 AM\n",
      "12:47 AM\n",
      "12:49 AM\n",
      "12:52 AM\n",
      "12:57 AM\n",
      "01:06 AM\n",
      "01:13 AM\n",
      "01:53 AM\n",
      "02:01 AM\n",
      "02:05 AM\n",
      "02:20 AM\n",
      "02:34 AM\n",
      "02:38 AM\n",
      "02:48 AM\n",
      "03:05 AM\n",
      "03:38 AM\n",
      "03:54 AM\n",
      "03:56 AM\n",
      "04:14 AM\n",
      "04:27 AM\n",
      "04:36 AM\n",
      "04:37 AM\n",
      "04:42 AM\n",
      "04:48 AM\n",
      "04:56 AM\n",
      "05:17 AM\n",
      "05:34 AM\n",
      "05:37 AM\n",
      "05:45 AM\n",
      "05:55 AM\n",
      "05:56 AM\n",
      "06:18 AM\n",
      "06:33 AM\n",
      "06:44 AM\n",
      "06:56 AM\n",
      "07:16 AM\n",
      "07:17 AM\n",
      "07:30 AM\n",
      "08:28 AM\n",
      "08:51 AM\n",
      "08:56 AM\n",
      "08:57 AM\n",
      "09:05 AM\n",
      "09:16 AM\n",
      "09:33 AM\n",
      "09:47 AM\n",
      "09:56 AM\n",
      "10:14 AM\n",
      "The time the 50th bus arrived: 10:14 AM\n"
     ]
    }
   ],
   "source": [
    "hour = 0\n",
    "mins = 0\n",
    "am_or_pm = ''\n",
    "\n",
    "def converter1(tup1):\n",
    "    for i in tup1:\n",
    "        mins = i[1]\n",
    "        if(i[0] % 12 == 0):\n",
    "            hour =  12\n",
    "            am_or_pm = \"AM\"\n",
    "        else: \n",
    "            hour = i[0] % 12\n",
    "            if(i[0] >= 12):\n",
    "                am_or_pm = \"PM\"\n",
    "            else:\n",
    "                am_or_pm = \"AM\"\n",
    "    return(str('{0:02d}'.format(hour)) + \":\" + str('{0:02d}'.format(mins))+ \" \"+ am_or_pm)\n",
    "    \n",
    "    \n",
    "\n",
    "\n",
    "sum = 0\n",
    "newLi = []\n",
    "for x in (busInterval_list1): \n",
    "    sum = sum + x\n",
    "    tup = ((int(sum / 60)), (sum % 60)) \n",
    "    newLi.append(tup)\n",
    "    \n",
    "    print(converter1(newLi))\n",
    "    \n",
    "\n",
    "    \n",
    "print(\"The time the 50th bus arrived: \" + converter1(newLi))\n",
    "        \n",
    "    \n"
   ]
  },
  {
   "cell_type": "markdown",
   "metadata": {},
   "source": [
    "#Problem 3(a).  Chocolate and the Nobel.\n",
    "\n",
    "Researchers have observed a (presumably spurious) correlation between per capita chocolate consumption and the rate of Nobel prize laureates: see [Chocolate Consumption, Cognitive Function, and Nobel Laureates](http://www.nejm.org/doi/full/10.1056/NEJMon1211064).  In this problem, we will create some sample data to simulate this relationship.\n",
    "\n",
    "Write Python code to produce a list of 50 ordered pairs $(c,n)$, where $c$ represents chocolate consumption in kg/year/person and $n$ represents the number of Nobel laureates per 10 million population.  The values for $c$ should be random numbers (not necessarily integers!) between 0 and 15.  You may assume that $c$ and $n$ are related by\n",
    "\n",
    "$n = 0.4\\cdot c-0.8$.\n",
    "\n",
    "However, it is not possible for a nation to have a negative number of Nobel laureates, so if your predicted value of $n$ is less than 0, replace that value by 0."
   ]
  },
  {
   "cell_type": "code",
   "execution_count": 22,
   "metadata": {
    "collapsed": false,
    "scrolled": false
   },
   "outputs": [
    {
     "name": "stdout",
     "output_type": "stream",
     "text": [
      "5.358349958558996 1.3433399834235986\n",
      "4.629260194450597 1.0517040777802389\n",
      "1.2902930045023553 0\n",
      "3.162614659246607 0.465045863698643\n",
      "1.7444035033576564 0\n",
      "8.9441925298533 2.7776770119413206\n",
      "1.908722956075705 0\n",
      "6.482889768474983 1.7931559073899936\n",
      "5.582235041856572 1.432894016742629\n",
      "13.260277563230225 4.504111025292091\n",
      "11.050100387991797 3.620040155196719\n",
      "9.885942623918394 3.1543770495673575\n",
      "5.047614514171727 1.2190458056686906\n",
      "7.821680650773769 2.3286722603095074\n",
      "6.621639874964552 1.8486559499858213\n",
      "13.369862512731233 4.547945005092494\n",
      "12.537868449590157 4.215147379836063\n",
      "2.108348943211931 0.043339577284772446\n",
      "11.46376727735166 3.785506910940665\n",
      "8.318837338423279 2.527534935369312\n",
      "8.508527963715842 2.603411185486337\n",
      "10.071982122589004 3.228792849035602\n",
      "9.001736125368003 2.8006944501472013\n",
      "13.25440801238794 4.501763204955176\n",
      "5.64721270608615 1.45888508243446\n",
      "3.4434576343232752 0.5773830537293101\n",
      "4.484990431016367 0.9939961724065469\n",
      "14.825628461263463 5.130251384505386\n",
      "5.691214390884509 1.4764857563538036\n",
      "11.299501444313485 3.719800577725394\n",
      "13.310719912205032 4.524287964882014\n",
      "4.041971635002449 0.8167886540009797\n",
      "5.526665374614916 1.4106661498459665\n",
      "4.8135551615448335 1.1254220646179334\n",
      "6.619409095221515 1.8477636380886062\n",
      "12.069169678798168 4.0276678715192675\n",
      "8.916835550281922 2.7667342201127694\n",
      "9.890812807729084 3.1563251230916336\n",
      "12.470275890790063 4.188110356316026\n",
      "14.507686772561106 5.003074709024443\n",
      "5.412480564708217 1.3649922258832865\n",
      "5.202168983451907 1.2808675933807627\n",
      "3.1650033695508077 0.4660013478203231\n",
      "4.730547804862722 1.0922191219450887\n",
      "4.7799685275264086 1.1119874110105634\n",
      "3.206320984535175 0.4825283938140701\n",
      "3.5174988166468806 0.6069995266587522\n",
      "11.190521893004785 3.6762087572019144\n",
      "13.899627064463216 4.7598508257852865\n",
      "14.78927431292369 5.115709725169476\n"
     ]
    }
   ],
   "source": [
    "import random\n",
    "list_ordered_pair = []\n",
    "for c in range(50):\n",
    "    c = random.uniform(1.0,15.0)    \n",
    "    \n",
    "    #c = round(c,2)\n",
    "      \n",
    "    n = 0.4 * c - 0.8\n",
    "    if( n < 0):\n",
    "        n = 0\n",
    "    \n",
    "    #tup = (c,round(n,2))\n",
    "    tup = (c, n)\n",
    "    list_ordered_pair.append(tup)\n",
    "    \n",
    "\n",
    "#print(list_ordered_pair)\n",
    "for x,y in list_ordered_pair:\n",
    "    print(x,y)\n",
    "    \n",
    "    \n",
    "    "
   ]
  },
  {
   "cell_type": "markdown",
   "metadata": {},
   "source": [
    "#Problem 3(b).  Error term.\n",
    "\n",
    "Our list of data from part (a) is not a good simulation of real-world data, because it is perfectly linear.  Starting with the $c$ and $n$ values you generated in part (a), generate new $n_e$ values, using the following formula:\n",
    "\n",
    "$n_e = n + \\epsilon.$\n",
    "\n",
    "Here $\\epsilon$ should be a random variable with normal distribution, mean 0, and standard deviation 1.  Your result should be a new list of 50 ordered pairs $(c,n_e)$.  \n",
    "\n",
    "Again, your simulated data should not predict negative numbers of Nobel laureates."
   ]
  },
  {
   "cell_type": "code",
   "execution_count": 14,
   "metadata": {
    "collapsed": false
   },
   "outputs": [
    {
     "name": "stdout",
     "output_type": "stream",
     "text": [
      "5.069999854993659 1.2279999419974639\n",
      "14.07935848073179 6.739555265988819\n",
      "4.9729849446214995 1.8421262229940172\n",
      "10.899757808431145 3.5599031233724583\n",
      "4.447398219318267 2.003283925264232\n",
      "13.412331270795088 4.682187542118192\n",
      "13.42396976027498 7.137042684871917\n",
      "13.019753090305748 4.4079012361223\n",
      "2.8112185920187818 0.8793388259982764\n",
      "7.556642297054344 2.2226569188217375\n",
      "4.250128890114175 0.9000515560456701\n",
      "12.098290810420124 4.03931632416805\n",
      "14.07249945539395 4.828999782157581\n",
      "5.3646173600807465 1.3458469440322987\n",
      "1.2438180889472723 0.6343231918544097\n",
      "2.9876377315640936 0.39505509262563754\n",
      "4.560146261823784 1.0240585047295134\n",
      "6.543878135489567 1.8175512541958272\n",
      "13.233622754062418 6.365528820263972\n",
      "9.540236237217778 3.0160944948871116\n",
      "8.484678180242394 3.812406089271274\n",
      "14.513153253288941 6.166967540604956\n",
      "11.155410523192012 4.1641269227596185\n",
      "12.895389799184636 4.358155919673855\n",
      "11.694905508532221 4.040583264242653\n",
      "4.55500341152353 2.2602781735675723\n",
      "7.4573328841623505 2.1829331536649406\n",
      "10.640253913469886 3.4561015653879545\n",
      "3.3603179081944523 1.0843311678183989\n",
      "8.647945281666852 3.690373029189421\n",
      "10.823761488222964 3.529504595289186\n",
      "3.3530884040337927 0.541235361613517\n",
      "6.990614992582724 1.9962459970330897\n",
      "1.073664737272545 0.5698915337238286\n",
      "9.950928966703561 3.4760980032736306\n",
      "2.079787526343166 0.03191501053726642\n",
      "7.534200456390234 2.5271197192350288\n",
      "8.7320051791077 2.6928020716430803\n",
      "14.659735735839606 5.063894294335843\n",
      "7.8433567955660415 2.3373427182264166\n",
      "10.578653035343619 3.431461214137448\n",
      "1.1847050603842642 0\n",
      "13.033631927062757 4.7650748128804\n",
      "7.454933572744757 2.181973429097903\n",
      "3.622476875786302 0.6489907503145209\n",
      "10.446845903727834 3.618260308080809\n",
      "4.9310952250947455 1.7875283930028432\n",
      "13.173646702461445 4.469458680984578\n",
      "9.887624718899676 3.9075035582869493\n",
      "6.479831224672496 1.7919324898689986\n"
     ]
    }
   ],
   "source": [
    "\n",
    "Li = []\n",
    "for x in (list_ordered_pair):\n",
    "    epsilion = random.normalvariate(0, 1)\n",
    "    if (epsilion < 0):\n",
    "        epsilion = 0\n",
    "        \n",
    "    #n_sub_e = round(n_sub_e,2)\n",
    "    #tup = (x[0], round((x[1] + n_sub_e),2))\n",
    "    # c = x[0] n = x[1], n_sub_e = x[1] + epsilion\n",
    "    \n",
    "    tup = (x[0], (x[1] + epsilion))\n",
    "    Li.append(tup)\n",
    "    \n",
    "    #k = [(n, x[1] + n) for x in list_ordered_pair]\n",
    "\n",
    "    \n",
    "#print(Li)\n",
    "\n",
    "for x,y in Li:\n",
    "    print(x,y)\n",
    "\n"
   ]
  },
  {
   "cell_type": "markdown",
   "metadata": {},
   "source": [
    "# Problem 3(c).  Winners and losers.\n",
    "\n",
    "Make a new list consisting of all of the ordered pairs from your list in part (b) such that $n_e > 0.4\\cdot c -0.8$.  How many items are in your list of winners?"
   ]
  },
  {
   "cell_type": "code",
   "execution_count": 13,
   "metadata": {
    "collapsed": false
   },
   "outputs": [
    {
     "name": "stdout",
     "output_type": "stream",
     "text": [
      "5.069999854993659 1.6460146350858862\n",
      "10.899757808431145 4.534813694614671\n",
      "13.42396976027498 4.952811027923919\n",
      "13.019753090305748 4.5721652248257705\n",
      "2.8112185920187818 0.33385661876635725\n",
      "7.556642297054344 3.5335251245535924\n",
      "4.250128890114175 2.115295915945042\n",
      "5.3646173600807465 3.442146956769161\n",
      "1.2438180889472723 0\n",
      "2.9876377315640936 0.7108764872997986\n",
      "4.560146261823784 2.417083936933305\n",
      "6.543878135489567 2.007063482357605\n",
      "8.484678180242394 3.9317124107925805\n",
      "12.895389799184636 4.703287178276679\n",
      "11.694905508532221 4.397212654315878\n",
      "3.3603179081944523 0.8890173737073181\n",
      "10.823761488222964 4.012254565540406\n",
      "3.3530884040337927 0.9067229964571106\n",
      "6.990614992582724 2.740921352585662\n",
      "1.073664737272545 0.927069887704096\n",
      "9.950928966703561 4.122913268441799\n",
      "2.079787526343166 0.1047354156664233\n",
      "8.7320051791077 3.7473091854146725\n",
      "14.659735735839606 5.365744484200619\n",
      "1.1847050603842642 0\n",
      "10.446845903727834 4.770223751505766\n",
      "4.9310952250947455 1.7031153816374585\n",
      "13.173646702461445 5.250810110116736\n",
      "There are this many items: 28\n"
     ]
    }
   ],
   "source": [
    "newList = []\n",
    "for x in Li:\n",
    "    if(x[1] > (0.4 * x[0] - 0.8)):\n",
    "        tup = (x[0], x[1])\n",
    "        newList.append(tup)\n",
    "        \n",
    "\n",
    "#print(newList)\n",
    "\n",
    "for x,y in newList:\n",
    "    print(x,y)\n",
    "\n",
    "print(\"There are this many items: \" + str(len(newList)))\n",
    "        \n",
    "    "
   ]
  },
  {
   "cell_type": "markdown",
   "metadata": {},
   "source": [
    "#Problem 3(d). Preparing for R.\n",
    "\n",
    "For future use, split your list of ordered pairs into two lists.  The first list should contain the $c$ values, and the second list should contain the $n_e$ values."
   ]
  },
  {
   "cell_type": "code",
   "execution_count": 12,
   "metadata": {
    "collapsed": false
   },
   "outputs": [
    {
     "name": "stdout",
     "output_type": "stream",
     "text": [
      "[5.069999854993659, 14.07935848073179, 4.9729849446214995, 10.899757808431145, 4.447398219318267, 13.412331270795088, 13.42396976027498, 13.019753090305748, 2.8112185920187818, 7.556642297054344, 4.250128890114175, 12.098290810420124, 14.07249945539395, 5.3646173600807465, 1.2438180889472723, 2.9876377315640936, 4.560146261823784, 6.543878135489567, 13.233622754062418, 9.540236237217778, 8.484678180242394, 14.513153253288941, 11.155410523192012, 12.895389799184636, 11.694905508532221, 4.55500341152353, 7.4573328841623505, 10.640253913469886, 3.3603179081944523, 8.647945281666852, 10.823761488222964, 3.3530884040337927, 6.990614992582724, 1.073664737272545, 9.950928966703561, 2.079787526343166, 7.534200456390234, 8.7320051791077, 14.659735735839606, 7.8433567955660415, 10.578653035343619, 1.1847050603842642, 13.033631927062757, 7.454933572744757, 3.622476875786302, 10.446845903727834, 4.9310952250947455, 13.173646702461445, 9.887624718899676, 6.479831224672496]\n",
      "--------------------------------------------------------------------\n",
      "[1.2279999419974639, 4.831743392292716, 1.1891939778485998, 3.5599031233724583, 0.978959287727307, 4.564932508318035, 4.5695879041099925, 4.4079012361223, 0.3244874368075128, 2.2226569188217375, 0.9000515560456701, 4.03931632416805, 4.828999782157581, 1.3458469440322987, 0, 0.39505509262563754, 1.0240585047295134, 1.8175512541958272, 4.493449101624968, 3.0160944948871116, 2.5938712720969574, 5.005261301315577, 3.6621642092768054, 4.358155919673855, 3.8779622034128884, 1.0220013646094122, 2.1829331536649406, 3.4561015653879545, 0.5441271632777809, 2.6591781126667406, 3.529504595289186, 0.541235361613517, 1.9962459970330897, 0, 3.1803715866814244, 0.03191501053726642, 2.213680182556094, 2.6928020716430803, 5.063894294335843, 2.3373427182264166, 3.431461214137448, 0, 4.413452770825104, 2.181973429097903, 0.6489907503145209, 3.378738361491134, 1.1724380900378983, 4.469458680984578, 3.155049887559871, 1.7919324898689986]\n"
     ]
    }
   ],
   "source": [
    "c_val_list = []\n",
    "n_sub_elist = []\n",
    "\n",
    "for x in list_ordered_pair:\n",
    "    c_val_list.append(x[0])\n",
    "    n_sub_elist.append(x[1])\n",
    "\n",
    "print(c_val_list)\n",
    "print(\"--------------------------------------------------------------------\")\n",
    "\n",
    "print(n_sub_elist)\n",
    "    "
   ]
  },
  {
   "cell_type": "code",
   "execution_count": null,
   "metadata": {
    "collapsed": true
   },
   "outputs": [],
   "source": []
  }
 ],
 "metadata": {
  "kernelspec": {
   "display_name": "Python 3",
   "language": "python",
   "name": "python3"
  },
  "language_info": {
   "codemirror_mode": {
    "name": "ipython",
    "version": 3
   },
   "file_extension": ".py",
   "mimetype": "text/x-python",
   "name": "python",
   "nbconvert_exporter": "python",
   "pygments_lexer": "ipython3",
   "version": "3.5.1"
  }
 },
 "nbformat": 4,
 "nbformat_minor": 0
}
