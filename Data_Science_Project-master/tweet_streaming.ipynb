{
 "cells": [
  {
   "cell_type": "code",
   "execution_count": null,
   "metadata": {
    "collapsed": false,
    "scrolled": false
   },
   "outputs": [],
   "source": [
    "'''\n",
    "Twitter Stream Listener\n",
    "'''\n",
    "\n",
    "\n",
    "# tweepy setup\n",
    "import time\n",
    "from tweepy import Stream\n",
    "from tweepy import OAuthHandler\n",
    "from tweepy.streaming import StreamListener\n",
    "import io\n",
    "import os\n",
    "import json\n",
    "\n",
    "\n",
    "# twitter OAuth/took mine out have to provide credentials\n",
    "ckey = 'XXXXXXXXXXXXXXXXXXXXXXXX'\n",
    "consumer_secret = 'XXXXXXXXXXXXXXXXXXXXXXXXXXXXXXXXXXXXXXXXXXXXXX'\n",
    "access_token_key = 'XXXXXXXXXXXXXXXXXXXXXXXXXXXXXXXXXXXXXXXXXXXXX'\n",
    "access_token_secret = 'XXXXXXXXXXXXXXXXXXXXXXXXXXXXXXXXXXXXXXXXXXX'\n",
    "\n",
    "\n",
    "#Listener Class Override\n",
    "\n",
    "class listener(StreamListener):\n",
    "\n",
    "\tdef __init__(self, start_time, time_limit=60):\n",
    "\n",
    "\t\tself.time = start_time\n",
    "\t\tself.limit = time_limit\n",
    "\t\tself.tweet_data = []\n",
    "\n",
    "# stream till we time out, generally i set it 500. \n",
    "\tdef on_data(self, data):\n",
    "\n",
    "\t\twhile (time.time() - self.time) < self.limit:\n",
    "\n",
    "\t\t\ttry:\n",
    "\n",
    "\t\t\t\tself.tweet_data.append(data)\n",
    "\n",
    "\t\t\t\treturn True\n",
    "\n",
    "\n",
    "\t\t\texcept BaseException as e:\n",
    "\t\t\t\tprint ('failed ondata,', str(e))\n",
    "\t\t\t\ttime.sleep(5)\n",
    "\t\t\t\tpass\n",
    "            \n",
    "        #saveFile = io.open('bernie_raw_tweets.json', 'w', encoding='utf-8')\n",
    "\t\tsaveFile = io.open('donald_raw_tweets.json', 'w', encoding='utf-8')\n",
    "        \n",
    "\t\t\"\"\"saveFile.write(u'[\\n')\"\"\"\n",
    "\t\tsaveFile.write(','.join(self.tweet_data))\n",
    "\t\t\"\"\"saveFile.write(u'\\n]')\"\"\"\n",
    "\t\tsaveFile.close()\n",
    "\t\texit()\n",
    "\n",
    "\tdef on_error(self, status):\n",
    "\n",
    "\t\tprint (status)\n",
    "\n",
    "\tdef on_disconnect(self, notice):\n",
    "\n",
    "\t\t\tprint ('bye')\n",
    "\n",
    "\n",
    "\n",
    "#Beginning of the specific code\n",
    "start_time = time.time() #grabs the system time\n",
    "\n",
    "#keyword_list_bern = ['bernie2016','feelthebern','bernie2016','berniesanders2016','Bernie Sanders 2016','FeelTheBern2016'] #track list\n",
    "keyword_list_donald = ['Trump2016','makeamericagreatagain','donaldtrump2016','trumptrain','trumptrain2016', 'Donald2016','DonaldTrump2016','trump2016'] #track list\n",
    "\n",
    "auth = OAuthHandler(ckey, consumer_secret) #OAuth object\n",
    "auth.set_access_token(access_token_key, access_token_secret)\n",
    "\n",
    "\n",
    "twitterStream = Stream(auth, listener(start_time, time_limit=400)) #initialize Stream object with a time out limit\n",
    "twitterStream.filter(track=keyword_list_donald, languages=['en'])  #call the filter method to run the Stream Listener"
   ]
  },
  {
   "cell_type": "code",
   "execution_count": 1,
   "metadata": {
    "collapsed": false
   },
   "outputs": [
    {
     "ename": "NameError",
     "evalue": "name 'twitterStream' is not defined",
     "output_type": "error",
     "traceback": [
      "\u001b[1;31m---------------------------------------------------------------------------\u001b[0m",
      "\u001b[1;31mNameError\u001b[0m                                 Traceback (most recent call last)",
      "\u001b[1;32m<ipython-input-1-419cfc2ccdd7>\u001b[0m in \u001b[0;36m<module>\u001b[1;34m()\u001b[0m\n\u001b[1;32m----> 1\u001b[1;33m \u001b[0mtwitterStream\u001b[0m\u001b[1;33m.\u001b[0m\u001b[0mdisconnect\u001b[0m\u001b[1;33m(\u001b[0m\u001b[1;33m)\u001b[0m\u001b[1;33m\u001b[0m\u001b[0m\n\u001b[0m",
      "\u001b[1;31mNameError\u001b[0m: name 'twitterStream' is not defined"
     ]
    }
   ],
   "source": [
    "twitterStream.disconnect()"
   ]
  },
  {
   "cell_type": "code",
   "execution_count": null,
   "metadata": {
    "collapsed": true
   },
   "outputs": [],
   "source": []
  }
 ],
 "metadata": {
  "kernelspec": {
   "display_name": "Python 3",
   "language": "python",
   "name": "python3"
  },
  "language_info": {
   "codemirror_mode": {
    "name": "ipython",
    "version": 3
   },
   "file_extension": ".py",
   "mimetype": "text/x-python",
   "name": "python",
   "nbconvert_exporter": "python",
   "pygments_lexer": "ipython3",
   "version": "3.5.1"
  }
 },
 "nbformat": 4,
 "nbformat_minor": 0
}
