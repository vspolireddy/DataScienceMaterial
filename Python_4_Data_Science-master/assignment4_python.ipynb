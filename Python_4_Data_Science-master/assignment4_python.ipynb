{
 "cells": [
  {
   "cell_type": "markdown",
   "metadata": {},
   "source": [
    "#Problem 1.  Revenue models.\n",
    "\n",
    "Average monthly revenue at each store in the TableFarm salad chain is $\\$100,000$, with a standard deviation of $\\$12,000$.  An advertising firm claims they can increase monthly revenue to $\\$120,000$, but the standard deviation will be increased as well, to $\\$25,000$.\n",
    "\n",
    "Write Python code to generate three lists of random numbers which model potential revenue: one list with 12 months of revenue using the current mean and standard deviation, another list with 12 months of revenue using the predicted mean and standard deviation, and a third list combining your first two lists.  You can assume a normal distribution.  Round each number to the nearest $\\$1,000$."
   ]
  },
  {
   "cell_type": "code",
   "execution_count": 2,
   "metadata": {
    "collapsed": false
   },
   "outputs": [
    {
     "name": "stdout",
     "output_type": "stream",
     "text": [
      "[119000, 99000, 111000, 89000, 92000, 125000, 88000, 102000, 110000, 102000, 94000, 92000, 109000, 146000, 151000, 153000, 159000, 97000, 152000, 136000, 122000, 158000, 143000, 110000]\n"
     ]
    }
   ],
   "source": [
    "import random\n",
    "import math\n",
    "\n",
    "rev_list1 = []\n",
    "for i in range(12):\n",
    "    rev = int(random.normalvariate(100000, 12000))\n",
    "    rev_list1.append((math.ceil(rev/1000.0)) * 1000)\n",
    "#print(rev_list1)\n",
    "\n",
    "\n",
    "rev_list2 = []\n",
    "for i in range(12):\n",
    "    rev = int(random.normalvariate(120000, 25000))\n",
    "    rev_list2.append((math.ceil(rev/1000.0)) * 1000)\n",
    "#print(rev_list2)\n",
    "\n",
    "\n",
    "print(rev_list1 + rev_list2)\n",
    "\n"
   ]
  },
  {
   "cell_type": "markdown",
   "metadata": {},
   "source": [
    "#Problem 2(a).  Bus arrival times.\n",
    "\n",
    "Shuttle buses arrive at an airport to fetch passengers with an average interval of 15 minutes.  Their actual arrival times follow a [Poisson process](http://preshing.com/20111007/how-to-generate-random-timings-for-a-poisson-process/).  Use the ```random``` module to generate a list of 50 different bus intervals, rounded to the nearest minute.  For example, your list might begin ```[11, 34, 18, 23, ...]```.\n",
    "\n",
    "What is the shortest waiting time in your list?  What is the longest waiting time?"
   ]
  },
  {
   "cell_type": "code",
   "execution_count": 5,
   "metadata": {
    "collapsed": false
   },
   "outputs": [
    {
     "name": "stdout",
     "output_type": "stream",
     "text": [
      "[2, 7, 6, 15, 3, 11, 29, 1, 16, 6, 18, 21, 24, 4, 28, 6, 20, 51, 8, 15, 11, 11, 16, 2, 5, 21, 50, 20, 4, 19, 14, 20, 38, 40, 6, 8, 36, 7, 33, 2, 6, 29, 27, 8, 35, 16, 3, 6, 19, 10]\n",
      "Shortest waiting time:1\n",
      "Longest waiting time:51\n"
     ]
    }
   ],
   "source": [
    "import math\n",
    "import random\n",
    "\n",
    "def nextTime(rateParameter):\n",
    "    return -math.log(1.0 - random.random()) / rateParameter\n",
    "\n",
    "busInterval_list = []\n",
    "busInterval_list1 = []\n",
    "for i in range(50):\n",
    "    x = math.ceil(nextTime(1/15.0))\n",
    "              \n",
    "    busInterval_list.append(round(x,1))\n",
    "    busInterval_list1.append(x)\n",
    "\n",
    "#print(sorted(busInterval_list))\n",
    "print(busInterval_list1)\n",
    "\n",
    "print(\"Shortest waiting time:\" + str(min(busInterval_list)))\n",
    "print(\"Longest waiting time:\" + str(max(busInterval_list)))\n"
   ]
  },
  {
   "cell_type": "markdown",
   "metadata": {},
   "source": [
    "#Problem 2(b).  Cumulative waiting times.\n",
    "\n",
    "Suppose the first bus arrives at the measured number of minutes after midnight.  The bus company wants to track the time each bus arrived, measured in minutes after midnight.  Make a list of the number of minutes after midnight that each bus arrived at, using the list you generated in part (a).  With our example in part (a), for instance, the answer would start ```[11, 45, 63, 86, ...]```.\n",
    "\n",
    "At what time does the fiftieth bus arrive?"
   ]
  },
  {
   "cell_type": "code",
   "execution_count": 6,
   "metadata": {
    "collapsed": false
   },
   "outputs": [
    {
     "name": "stdout",
     "output_type": "stream",
     "text": [
      "12:02 AM\n",
      "12:09 AM\n",
      "12:15 AM\n",
      "12:30 AM\n",
      "12:33 AM\n",
      "12:44 AM\n",
      "01:13 AM\n",
      "01:14 AM\n",
      "01:30 AM\n",
      "01:36 AM\n",
      "01:54 AM\n",
      "02:15 AM\n",
      "02:39 AM\n",
      "02:43 AM\n",
      "03:11 AM\n",
      "03:17 AM\n",
      "03:37 AM\n",
      "04:28 AM\n",
      "04:36 AM\n",
      "04:51 AM\n",
      "05:02 AM\n",
      "05:13 AM\n",
      "05:29 AM\n",
      "05:31 AM\n",
      "05:36 AM\n",
      "05:57 AM\n",
      "06:47 AM\n",
      "07:07 AM\n",
      "07:11 AM\n",
      "07:30 AM\n",
      "07:44 AM\n",
      "08:04 AM\n",
      "08:42 AM\n",
      "09:22 AM\n",
      "09:28 AM\n",
      "09:36 AM\n",
      "10:12 AM\n",
      "10:19 AM\n",
      "10:52 AM\n",
      "10:54 AM\n",
      "11:00 AM\n",
      "11:29 AM\n",
      "11:56 AM\n",
      "12:04 AM\n",
      "12:39 AM\n",
      "12:55 AM\n",
      "12:58 AM\n",
      "01:04 PM\n",
      "01:23 PM\n",
      "01:33 PM\n"
     ]
    }
   ],
   "source": [
    "hour = 0\n",
    "mins = 0\n",
    "am_or_pm = ''\n",
    "\n",
    "def converter1(tup1):\n",
    "    for i in tup1:\n",
    "        mins = i[1]\n",
    "        if(i[0] % 12 == 0):\n",
    "            hour =  12\n",
    "            am_or_pm = \"AM\"\n",
    "        else: \n",
    "            hour = i[0] % 12\n",
    "            if(i[0] >= 12):\n",
    "                am_or_pm = \"PM\"\n",
    "            else:\n",
    "                am_or_pm = \"AM\"\n",
    "    return(str('{0:02d}'.format(hour)) + \":\" + str('{0:02d}'.format(mins))+ \" \"+ am_or_pm)\n",
    "    \n",
    "    \n",
    "\n",
    "\n",
    "sum = 0\n",
    "newLi = []\n",
    "for x in (busInterval_list1): \n",
    "    sum = sum + x\n",
    "    tup = ((int(sum / 60)), (sum % 60)) \n",
    "    newLi.append(tup)\n",
    "    \n",
    "    print(converter1(newLi))\n",
    "        \n",
    "    \n"
   ]
  },
  {
   "cell_type": "markdown",
   "metadata": {},
   "source": [
    "#Problem 3(a).  Chocolate and the Nobel.\n",
    "\n",
    "Researchers have observed a (presumably spurious) correlation between per capita chocolate consumption and the rate of Nobel prize laureates: see [Chocolate Consumption, Cognitive Function, and Nobel Laureates](http://www.nejm.org/doi/full/10.1056/NEJMon1211064).  In this problem, we will create some sample data to simulate this relationship.\n",
    "\n",
    "Write Python code to produce a list of 50 ordered pairs $(c,n)$, where $c$ represents chocolate consumption in kg/year/person and $n$ represents the number of Nobel laureates per 10 million population.  The values for $c$ should be random numbers (not necessarily integers!) between 0 and 15.  You may assume that $c$ and $n$ are related by\n",
    "\n",
    "$n = 0.4\\cdot c-0.8$.\n",
    "\n",
    "However, it is not possible for a nation to have a negative number of Nobel laureates, so if your predicted value of $n$ is less than 0, replace that value by 0."
   ]
  },
  {
   "cell_type": "code",
   "execution_count": 7,
   "metadata": {
    "collapsed": false,
    "scrolled": false
   },
   "outputs": [
    {
     "name": "stdout",
     "output_type": "stream",
     "text": [
      "[(11.439340057785092, 3.775736023114037), (12.681655738678788, 4.272662295471516), (3.2710236392913323, 0.5084094557165331), (10.6804468342497, 3.472178733699881), (11.607211853101624, 3.84288474124065), (9.024683365809912, 2.8098733463239647), (8.729326860534211, 2.691730744213685), (5.368180496944428, 1.3472721987777712), (7.359059472566418, 2.1436237890265675), (1.1616933815581192, 0), (12.152675521422164, 4.061070208568866), (12.825198145658904, 4.330079258263562), (7.221416046667604, 2.0885664186670416), (12.574315215776341, 4.229726086310537), (7.737805934367311, 2.295122373746925), (10.083172084277585, 3.2332688337110342), (12.350462535964914, 4.140185014385966), (5.649289682276587, 1.4597158729106348), (11.508543266721201, 3.8034173066884804), (9.926887267879856, 3.1707549071519425), (11.982506858830103, 3.993002743532042), (6.550764273661968, 1.8203057094647874), (12.400706801437789, 4.160282720575116), (10.90794763935263, 3.5631790557410525), (3.22616100306628, 0.490464401226512), (1.7403280744126153, 0), (6.670074090261206, 1.8680296361044826), (2.871939021424134, 0.3487756085696536), (5.287983316065944, 1.3151933264263775), (4.945787662444634, 1.1783150649778538), (13.478205843124568, 4.591282337249828), (6.297874609007472, 1.7191498436029888), (13.43575636718056, 4.574302546872224), (6.312480707195007, 1.7249922828780029), (2.440948669037773, 0.17637946761510914), (13.505608055629333, 4.602243222251734), (5.281049977319536, 1.3124199909278145), (3.373574030977437, 0.549429612390975), (14.68111593481606, 5.072446373926424), (11.808007793061044, 3.9232031172244177), (13.66324931571139, 4.665299726284556), (2.9515760865884246, 0.38063043463536994), (9.434929553769415, 2.9739718215077664), (10.847197145719049, 3.53887885828762), (13.713076502815314, 4.685230601126126), (12.004530241478346, 4.001812096591339), (6.580304514790461, 1.8321218059161846), (7.5073348098252, 2.20293392393008), (2.7126225994790527, 0.285049039791621), (11.974732813930482, 3.989893125572193)]\n"
     ]
    }
   ],
   "source": [
    "import random\n",
    "list_ordered_pair = []\n",
    "for c in range(50):\n",
    "    c = random.uniform(1.0,15.0)    \n",
    "    \n",
    "    #c = round(c,2)\n",
    "      \n",
    "    n = 0.4 * c - 0.8\n",
    "    if( n < 0):\n",
    "        n = 0\n",
    "    \n",
    "    #tup = (c,round(n,2))\n",
    "    tup = (c, n)\n",
    "    list_ordered_pair.append(tup)\n",
    "    \n",
    "\n",
    "print(list_ordered_pair)\n",
    "    \n",
    "    \n",
    "    "
   ]
  },
  {
   "cell_type": "markdown",
   "metadata": {},
   "source": [
    "#Problem 3(b).  Error term.\n",
    "\n",
    "Our list of data from part (a) is not a good simulation of real-world data, because it is perfectly linear.  Starting with the $c$ and $n$ values you generated in part (a), generate new $n_e$ values, using the following formula:\n",
    "\n",
    "$n_e = n + \\epsilon.$\n",
    "\n",
    "Here $\\epsilon$ should be a random variable with normal distribution, mean 0, and standard deviation 1.  Your result should be a new list of 50 ordered pairs $(c,n_e)$.  \n",
    "\n",
    "Again, your simulated data should not predict negative numbers of Nobel laureates."
   ]
  },
  {
   "cell_type": "code",
   "execution_count": 8,
   "metadata": {
    "collapsed": false
   },
   "outputs": [
    {
     "name": "stdout",
     "output_type": "stream",
     "text": [
      "[(11.439340057785092, 3.775736023114037), (12.681655738678788, 4.566803628751402), (3.2710236392913323, 0.5084094557165331), (10.6804468342497, 3.472178733699881), (11.607211853101624, 3.84288474124065), (9.024683365809912, 2.8098733463239647), (8.729326860534211, 3.2092531354144165), (5.368180496944428, 1.3472721987777712), (7.359059472566418, 2.818013847197851), (1.1616933815581192, 0), (12.152675521422164, 4.061070208568866), (12.825198145658904, 5.735363967402605), (7.221416046667604, 2.0885664186670416), (12.574315215776341, 5.272608523896925), (7.737805934367311, 2.4420705408416383), (10.083172084277585, 3.2332688337110342), (12.350462535964914, 5.970635095018338), (5.649289682276587, 2.2342666473622357), (11.508543266721201, 4.004262115604937), (9.926887267879856, 3.1707549071519425), (11.982506858830103, 3.993002743532042), (6.550764273661968, 2.136924989877881), (12.400706801437789, 4.160282720575116), (10.90794763935263, 3.5631790557410525), (3.22616100306628, 0.490464401226512), (1.7403280744126153, 0.9684483749869011), (6.670074090261206, 1.8680296361044826), (2.871939021424134, 0.5409213272642058), (5.287983316065944, 1.5517256330161429), (4.945787662444634, 1.1783150649778538), (13.478205843124568, 4.932204764025952), (6.297874609007472, 1.7191498436029888), (13.43575636718056, 4.574302546872224), (6.312480707195007, 2.8293313627459162), (2.440948669037773, 0.17637946761510914), (13.505608055629333, 4.602243222251734), (5.281049977319536, 2.385934593880687), (3.373574030977437, 0.549429612390975), (14.68111593481606, 5.731293503585896), (11.808007793061044, 3.9232031172244177), (13.66324931571139, 5.041418548612757), (2.9515760865884246, 1.3111745381846571), (9.434929553769415, 3.086311404835159), (10.847197145719049, 3.53887885828762), (13.713076502815314, 4.685230601126126), (12.004530241478346, 4.001812096591339), (6.580304514790461, 1.8321218059161846), (7.5073348098252, 2.509542513472309), (2.7126225994790527, 0.4667978862385057), (11.974732813930482, 4.891873233690546)]\n"
     ]
    }
   ],
   "source": [
    "\n",
    "Li = []\n",
    "for x in (list_ordered_pair):\n",
    "    epsilion = random.normalvariate(0, 1)\n",
    "    if (epsilion < 0):\n",
    "        epsilion = 0\n",
    "        \n",
    "    #n_sub_e = round(n_sub_e,2)\n",
    "    #tup = (x[0], round((x[1] + n_sub_e),2))\n",
    "    # c = x[0] n = x[1], n_sub_e = x[1] + epsilion\n",
    "    \n",
    "    tup = (x[0], (x[1] + epsilion))\n",
    "    Li.append(tup)\n",
    "    \n",
    "    #k = [(n, x[1] + n) for x in list_ordered_pair]\n",
    "\n",
    "    \n",
    "print(Li)\n",
    "\n"
   ]
  },
  {
   "cell_type": "markdown",
   "metadata": {},
   "source": [
    "# Problem 3(c).  Winners and losers.\n",
    "\n",
    "Make a new list consisting of all of the ordered pairs from your list in part (b) such that $n_e > 0.4\\cdot c -0.8$.  How many items are in your list of winners?"
   ]
  },
  {
   "cell_type": "code",
   "execution_count": 10,
   "metadata": {
    "collapsed": false
   },
   "outputs": [
    {
     "name": "stdout",
     "output_type": "stream",
     "text": [
      "[(12.681655738678788, 4.566803628751402), (8.729326860534211, 3.2092531354144165), (7.359059472566418, 2.818013847197851), (1.1616933815581192, 0), (12.825198145658904, 5.735363967402605), (12.574315215776341, 5.272608523896925), (7.737805934367311, 2.4420705408416383), (12.350462535964914, 5.970635095018338), (5.649289682276587, 2.2342666473622357), (11.508543266721201, 4.004262115604937), (6.550764273661968, 2.136924989877881), (1.7403280744126153, 0.9684483749869011), (2.871939021424134, 0.5409213272642058), (5.287983316065944, 1.5517256330161429), (13.478205843124568, 4.932204764025952), (6.312480707195007, 2.8293313627459162), (5.281049977319536, 2.385934593880687), (14.68111593481606, 5.731293503585896), (13.66324931571139, 5.041418548612757), (2.9515760865884246, 1.3111745381846571), (9.434929553769415, 3.086311404835159), (7.5073348098252, 2.509542513472309), (2.7126225994790527, 0.4667978862385057), (11.974732813930482, 4.891873233690546)]\n",
      "There are this many items: 24\n"
     ]
    }
   ],
   "source": [
    "newList = []\n",
    "for x in Li:\n",
    "    if(x[1] > (0.4 * x[0] - 0.8)):\n",
    "        tup = (x[0], x[1])\n",
    "        newList.append(tup)\n",
    "        \n",
    "\n",
    "print(newList)\n",
    "print(\"There are this many items: \" + str(len(newList)))\n",
    "        \n",
    "    "
   ]
  },
  {
   "cell_type": "markdown",
   "metadata": {},
   "source": [
    "#Problem 3(d). Preparing for R.\n",
    "\n",
    "For future use, split your list of ordered pairs into two lists.  The first list should contain the $c$ values, and the second list should contain the $n_e$ values."
   ]
  },
  {
   "cell_type": "code",
   "execution_count": 11,
   "metadata": {
    "collapsed": false
   },
   "outputs": [
    {
     "name": "stdout",
     "output_type": "stream",
     "text": [
      "[11.439340057785092, 12.681655738678788, 3.2710236392913323, 10.6804468342497, 11.607211853101624, 9.024683365809912, 8.729326860534211, 5.368180496944428, 7.359059472566418, 1.1616933815581192, 12.152675521422164, 12.825198145658904, 7.221416046667604, 12.574315215776341, 7.737805934367311, 10.083172084277585, 12.350462535964914, 5.649289682276587, 11.508543266721201, 9.926887267879856, 11.982506858830103, 6.550764273661968, 12.400706801437789, 10.90794763935263, 3.22616100306628, 1.7403280744126153, 6.670074090261206, 2.871939021424134, 5.287983316065944, 4.945787662444634, 13.478205843124568, 6.297874609007472, 13.43575636718056, 6.312480707195007, 2.440948669037773, 13.505608055629333, 5.281049977319536, 3.373574030977437, 14.68111593481606, 11.808007793061044, 13.66324931571139, 2.9515760865884246, 9.434929553769415, 10.847197145719049, 13.713076502815314, 12.004530241478346, 6.580304514790461, 7.5073348098252, 2.7126225994790527, 11.974732813930482]\n",
      "50\n"
     ]
    }
   ],
   "source": [
    "c_val_list = []\n",
    "n_sub_elist = []\n",
    "\n",
    "for x in list_ordered_pair:\n",
    "    c_val_list.append(x[0])\n",
    "    n_sub_elist.append(x[1])\n",
    "\n",
    "print(c_val_list)\n",
    "print(len(c_val_list))\n",
    "    "
   ]
  },
  {
   "cell_type": "code",
   "execution_count": null,
   "metadata": {
    "collapsed": true
   },
   "outputs": [],
   "source": []
  }
 ],
 "metadata": {
  "kernelspec": {
   "display_name": "Python 3",
   "language": "python",
   "name": "python3"
  },
  "language_info": {
   "codemirror_mode": {
    "name": "ipython",
    "version": 3
   },
   "file_extension": ".py",
   "mimetype": "text/x-python",
   "name": "python",
   "nbconvert_exporter": "python",
   "pygments_lexer": "ipython3",
   "version": "3.5.1"
  }
 },
 "nbformat": 4,
 "nbformat_minor": 0
}
